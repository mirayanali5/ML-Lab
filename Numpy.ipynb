{
 "cells": [
  {
   "cell_type": "markdown",
   "id": "269ff5a7-2d5a-4704-9d5a-a95a599a6897",
   "metadata": {},
   "source": [
    "Write a python program using Numpy to perform the following tasks\n",
    "\n",
    "• Create a 1-D array and display the data type of the array.\n",
    "\n",
    "• Create two 2D-arrays of the same shape and perform arithmetic operation on their\n",
    "elements.\n",
    "\n",
    "• Concatenate the above 2D-arrays along rows or columns and display the result.\n",
    "\n",
    "• Convert the concatenated array into a 1D-Array and display it.\n",
    "\n",
    "• Create a 3x3 identity matrix and print its shape, number of dimensions and datatype. \n"
   ]
  },
  {
   "cell_type": "code",
   "execution_count": 4,
   "id": "9151393b-122b-4e63-a70e-97eae1b3f71f",
   "metadata": {},
   "outputs": [],
   "source": [
    "import numpy as np"
   ]
  },
  {
   "cell_type": "code",
   "execution_count": 5,
   "id": "f58d71b1-996f-4b80-8100-900e94b994d3",
   "metadata": {},
   "outputs": [
    {
     "name": "stdout",
     "output_type": "stream",
     "text": [
      "1-D Array: [10 20 30 40 50]\n",
      "Data type: int32\n"
     ]
    }
   ],
   "source": [
    "# 1. Create a 1-D array and display its data type\n",
    "arr1D = np.array([10, 20, 30, 40, 50])\n",
    "print(\"1-D Array:\", arr1D)\n",
    "print(\"Data type:\", arr1D.dtype)"
   ]
  },
  {
   "cell_type": "code",
   "execution_count": 6,
   "id": "238245c0-40e8-4092-8c70-3d9ec8328b48",
   "metadata": {},
   "outputs": [
    {
     "name": "stdout",
     "output_type": "stream",
     "text": [
      "\n",
      "2D Array A:\n",
      " [[1 2]\n",
      " [3 4]]\n",
      "2D Array B:\n",
      " [[5 6]\n",
      " [7 8]]\n",
      "Addition:\n",
      " [[ 6  8]\n",
      " [10 12]]\n",
      "Subtraction:\n",
      " [[-4 -4]\n",
      " [-4 -4]]\n",
      "Multiplication:\n",
      " [[ 5 12]\n",
      " [21 32]]\n",
      "Division:\n",
      " [[0.2        0.33333333]\n",
      " [0.42857143 0.5       ]]\n"
     ]
    }
   ],
   "source": [
    "# 2. Create two 2D arrays and perform arithmetic operations\n",
    "a = np.array([[1, 2], [3, 4]])\n",
    "b = np.array([[5, 6], [7, 8]])\n",
    "\n",
    "print(\"\\n2D Array A:\\n\", a)\n",
    "print(\"2D Array B:\\n\", b)\n",
    "print(\"Addition:\\n\", a + b)\n",
    "print(\"Subtraction:\\n\", a - b)\n",
    "print(\"Multiplication:\\n\", a * b)\n",
    "print(\"Division:\\n\", a / b)\n"
   ]
  },
  {
   "cell_type": "code",
   "execution_count": 7,
   "id": "19cbd37c-4154-4394-a4f7-fa97e2ec8cda",
   "metadata": {},
   "outputs": [
    {
     "name": "stdout",
     "output_type": "stream",
     "text": [
      "\n",
      "Concatenated along rows:\n",
      " [[1 2]\n",
      " [3 4]\n",
      " [5 6]\n",
      " [7 8]]\n"
     ]
    }
   ],
   "source": [
    "# 3. Concatenate the 2D arrays along rows and display result\n",
    "concat_rows = np.concatenate((a, b), axis=0)\n",
    "print(\"\\nConcatenated along rows:\\n\", concat_rows)"
   ]
  },
  {
   "cell_type": "code",
   "execution_count": 8,
   "id": "d9fd492b-2aac-4034-be01-69fce0e8fc82",
   "metadata": {},
   "outputs": [
    {
     "name": "stdout",
     "output_type": "stream",
     "text": [
      "\n",
      "Flattened 1D Array:\n",
      " [1 2 3 4 5 6 7 8]\n"
     ]
    }
   ],
   "source": [
    "# 4. Convert the concatenated array into 1D and display it\n",
    "flattened = concat_rows.flatten()\n",
    "print(\"\\nFlattened 1D Array:\\n\", flattened)"
   ]
  },
  {
   "cell_type": "code",
   "execution_count": 9,
   "id": "722a0592-3db4-4787-a10e-8872d704c50d",
   "metadata": {},
   "outputs": [
    {
     "name": "stdout",
     "output_type": "stream",
     "text": [
      "\n",
      "3x3 Identity Matrix:\n",
      " [[1. 0. 0.]\n",
      " [0. 1. 0.]\n",
      " [0. 0. 1.]]\n",
      "Shape: (3, 3)\n",
      "Dimensions: 2\n",
      "Data type: float64\n"
     ]
    }
   ],
   "source": [
    "\n",
    "# 5. Create 3x3 identity matrix and display shape, dimensions, datatype\n",
    "identity = np.identity(3)\n",
    "print(\"\\n3x3 Identity Matrix:\\n\", identity)\n",
    "print(\"Shape:\", identity.shape)\n",
    "print(\"Dimensions:\", identity.ndim)\n",
    "print(\"Data type:\", identity.dtype)"
   ]
  },
  {
   "cell_type": "markdown",
   "id": "8dd3d685-191b-47c8-bcf6-ca142b2b1f84",
   "metadata": {},
   "source": [
    "Write a python program using Numpy to perform the following tasks\n",
    "\n",
    "• Create a 2x4 array of zeros and 4x2 array of ones and display it.\n",
    "\n",
    "• For each of the above arrays , print their shape, number of dimensions and datatype.\n",
    "\n",
    "• Convert 4x2 array of ones into 1D- Array and display the result.\n",
    "\n",
    "• Reshape it into a different valid shape.\n",
    "\n",
    "• Create a 4D-Array and convert its element to float."
   ]
  },
  {
   "cell_type": "code",
   "execution_count": 10,
   "id": "c0f6ecd2-2e3e-4c98-97e5-be86ddc9b250",
   "metadata": {},
   "outputs": [
    {
     "name": "stdout",
     "output_type": "stream",
     "text": [
      "2x4 Array of Zeros:\n",
      " [[0. 0. 0. 0.]\n",
      " [0. 0. 0. 0.]]\n",
      "\n",
      "4x2 Array of Ones:\n",
      " [[1. 1.]\n",
      " [1. 1.]\n",
      " [1. 1.]\n",
      " [1. 1.]]\n"
     ]
    }
   ],
   "source": [
    "import numpy as np\n",
    "# 1. Create arrays of zeros and ones\n",
    "zeros_arr = np.zeros((2, 4))\n",
    "ones_arr = np.ones((4, 2))\n",
    "print(\"2x4 Array of Zeros:\\n\", zeros_arr)\n",
    "print(\"\\n4x2 Array of Ones:\\n\", ones_arr)"
   ]
  },
  {
   "cell_type": "code",
   "execution_count": 11,
   "id": "6958a541-4908-40af-b216-5508458bca5b",
   "metadata": {},
   "outputs": [
    {
     "name": "stdout",
     "output_type": "stream",
     "text": [
      "\n",
      "Shape of zeros_arr: (2, 4)\n",
      "Dimensions: 2\n",
      "Data type: float64\n",
      "\n",
      "Shape of ones_arr: (4, 2)\n",
      "Dimensions: 2\n",
      "Data type: float64\n"
     ]
    }
   ],
   "source": [
    "# 2. Print shape, dimensions, and datatype\n",
    "print(\"\\nShape of zeros_arr:\", zeros_arr.shape)\n",
    "print(\"Dimensions:\", zeros_arr.ndim)\n",
    "print(\"Data type:\", zeros_arr.dtype)\n",
    "\n",
    "print(\"\\nShape of ones_arr:\", ones_arr.shape)\n",
    "print(\"Dimensions:\", ones_arr.ndim)\n",
    "print(\"Data type:\", ones_arr.dtype)\n"
   ]
  },
  {
   "cell_type": "code",
   "execution_count": 12,
   "id": "372ad04f-dac3-4428-815d-cd0c3141802a",
   "metadata": {},
   "outputs": [
    {
     "name": "stdout",
     "output_type": "stream",
     "text": [
      "\n",
      "Flattened 1D Array from ones_arr:\n",
      " [1. 1. 1. 1. 1. 1. 1. 1.]\n"
     ]
    }
   ],
   "source": [
    "# 3. Convert 4x2 array of ones to 1D array\n",
    "ones_flat = ones_arr.flatten()\n",
    "print(\"\\nFlattened 1D Array from ones_arr:\\n\", ones_flat)\n"
   ]
  },
  {
   "cell_type": "code",
   "execution_count": 13,
   "id": "1788a90d-b2a9-4bac-9ec0-bfdbe3143dd4",
   "metadata": {},
   "outputs": [
    {
     "name": "stdout",
     "output_type": "stream",
     "text": [
      "\n",
      "Reshaped to 2x4:\n",
      " [[1. 1. 1. 1.]\n",
      " [1. 1. 1. 1.]]\n"
     ]
    }
   ],
   "source": [
    "# 4. Reshape it to a different valid shape (e.g., 2x4)\n",
    "reshaped = ones_flat.reshape((2, 4))\n",
    "print(\"\\nReshaped to 2x4:\\n\", reshaped)\n"
   ]
  },
  {
   "cell_type": "code",
   "execution_count": 14,
   "id": "38047203-6ef1-4493-b258-d33112d08858",
   "metadata": {},
   "outputs": [
    {
     "name": "stdout",
     "output_type": "stream",
     "text": [
      "\n",
      "4D Array with float type:\n",
      " [[[[1. 2.]\n",
      "   [3. 4.]]\n",
      "\n",
      "  [[5. 6.]\n",
      "   [7. 8.]]]]\n",
      "Shape: (1, 2, 2, 2)\n",
      "Dimensions: 4\n",
      "Data type: float64\n"
     ]
    }
   ],
   "source": [
    "# 5. Create a 4D array and convert its elements to float\n",
    "arr_4D = np.array([[[[1, 2], [3, 4]], [[5, 6], [7, 8]]]])\n",
    "arr_4D_float = arr_4D.astype(float)\n",
    "print(\"\\n4D Array with float type:\\n\", arr_4D_float)\n",
    "print(\"Shape:\", arr_4D_float.shape)\n",
    "print(\"Dimensions:\", arr_4D_float.ndim)\n",
    "print(\"Data type:\", arr_4D_float.dtype)"
   ]
  }
 ],
 "metadata": {
  "kernelspec": {
   "display_name": "Python 3 (ipykernel)",
   "language": "python",
   "name": "python3"
  },
  "language_info": {
   "codemirror_mode": {
    "name": "ipython",
    "version": 3
   },
   "file_extension": ".py",
   "mimetype": "text/x-python",
   "name": "python",
   "nbconvert_exporter": "python",
   "pygments_lexer": "ipython3",
   "version": "3.11.7"
  }
 },
 "nbformat": 4,
 "nbformat_minor": 5
}
