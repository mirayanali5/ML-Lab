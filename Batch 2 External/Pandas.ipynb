{
 "cells": [
  {
   "cell_type": "markdown",
   "id": "4d37ceb9-ed5b-459c-9a3d-21816dce7319",
   "metadata": {},
   "source": [
    "6. For the given dataset ‘cars.csv’ , perform the following\n",
    "\n",
    "• Read the dataset\n",
    "\n",
    "• Display last 5 rows\n",
    "\n",
    "• Display first 5 rows\n",
    "\n",
    "• Check for missing values\n",
    "\n",
    "• Handle missing values\n",
    "\n",
    "• Display the shape of dataset and statistical summary.\n",
    "\n",
    "• Visualize the distribution of ‘Doors’ column using histogram."
   ]
  },
  {
   "cell_type": "code",
   "execution_count": 1,
   "id": "aa033246-bb6f-4d68-875f-539014e859ca",
   "metadata": {},
   "outputs": [],
   "source": [
    "import pandas as pd\n",
    "import matplotlib.pyplot as plt\n",
    "\n",
    "# 1. Read the dataset\n",
    "df = pd.read_csv('car_price_dataset.csv')\n"
   ]
  },
  {
   "cell_type": "code",
   "execution_count": 3,
   "id": "78969c6b-f3e6-4c33-b1e8-3315b73b189d",
   "metadata": {},
   "outputs": [
    {
     "name": "stdout",
     "output_type": "stream",
     "text": [
      "Last 5 rows of the dataset:\n",
      "           Brand     Model  Year  Engine_Size Fuel_Type    Transmission  \\\n",
      "9995         Kia    Optima  2004          3.7    Diesel  Semi-Automatic   \n",
      "9996   Chevrolet    Impala  2002          1.4  Electric       Automatic   \n",
      "9997         BMW  3 Series  2010          3.0    Petrol       Automatic   \n",
      "9998        Ford  Explorer  2002          1.4    Hybrid       Automatic   \n",
      "9999  Volkswagen    Tiguan  2001          2.1    Diesel          Manual   \n",
      "\n",
      "      Mileage  Doors  Owner_Count  Price  \n",
      "9995     5794      2            4   8884  \n",
      "9996   168000      2            1   6240  \n",
      "9997    86664      5            1   9866  \n",
      "9998   225772      4            1   4084  \n",
      "9999   157882      3            3   3342  \n"
     ]
    }
   ],
   "source": [
    "# 2. Display last 5 rows\n",
    "print(\"Last 5 rows of the dataset:\")\n",
    "print(df.tail())\n"
   ]
  },
  {
   "cell_type": "code",
   "execution_count": 4,
   "id": "68a2d7e6-33b6-4fe4-8fea-64408958998f",
   "metadata": {},
   "outputs": [
    {
     "name": "stdout",
     "output_type": "stream",
     "text": [
      "\n",
      "First 5 rows of the dataset:\n",
      "        Brand   Model  Year  Engine_Size Fuel_Type    Transmission  Mileage  \\\n",
      "0         Kia     Rio  2020          4.2    Diesel          Manual   289944   \n",
      "1   Chevrolet  Malibu  2012          2.0    Hybrid       Automatic     5356   \n",
      "2    Mercedes     GLA  2020          4.2    Diesel       Automatic   231440   \n",
      "3        Audi      Q5  2023          2.0  Electric          Manual   160971   \n",
      "4  Volkswagen    Golf  2003          2.6    Hybrid  Semi-Automatic   286618   \n",
      "\n",
      "   Doors  Owner_Count  Price  \n",
      "0      3            5   8501  \n",
      "1      2            3  12092  \n",
      "2      4            2  11171  \n",
      "3      2            1  11780  \n",
      "4      3            3   2867  \n"
     ]
    }
   ],
   "source": [
    "# 3. Display first 5 rows\n",
    "print(\"\\nFirst 5 rows of the dataset:\")\n",
    "print(df.head())"
   ]
  },
  {
   "cell_type": "code",
   "execution_count": 5,
   "id": "2e437684-4a05-4646-99ae-3a8b478b175d",
   "metadata": {},
   "outputs": [
    {
     "name": "stdout",
     "output_type": "stream",
     "text": [
      "\n",
      "Missing values in each column:\n",
      "Brand           0\n",
      "Model           0\n",
      "Year            0\n",
      "Engine_Size     0\n",
      "Fuel_Type       0\n",
      "Transmission    0\n",
      "Mileage         0\n",
      "Doors           0\n",
      "Owner_Count     0\n",
      "Price           0\n",
      "dtype: int64\n"
     ]
    }
   ],
   "source": [
    "# 4. Check for missing values\n",
    "print(\"\\nMissing values in each column:\")\n",
    "print(df.isnull().sum())"
   ]
  },
  {
   "cell_type": "code",
   "execution_count": 8,
   "id": "0c7f18fa-be24-47df-b67c-76bf0d1b1caf",
   "metadata": {},
   "outputs": [],
   "source": [
    "# 5. Handle missing values (e.g., fill with mode for categorical or mean for numerical)\n",
    "df = df.fillna(df.mode().iloc[0])  # Fills all columns using mode (can modify for numerical columns)"
   ]
  },
  {
   "cell_type": "code",
   "execution_count": 20,
   "id": "c00fe7de-4ee3-48ee-aaa0-6de08f714ab4",
   "metadata": {},
   "outputs": [
    {
     "name": "stdout",
     "output_type": "stream",
     "text": [
      "\n",
      "Shape of the dataset: (10000, 10)\n",
      "\n",
      "Statistical Summary:                Year   Engine_Size        Mileage         Doors   Owner_Count  \\\n",
      "count  10000.000000  10000.000000   10000.000000  10000.000000  10000.000000   \n",
      "mean    2011.543700      3.000560  149239.111800      3.497100      2.991100   \n",
      "std        6.897699      1.149324   86322.348957      1.110097      1.422682   \n",
      "min     2000.000000      1.000000      25.000000      2.000000      1.000000   \n",
      "25%     2006.000000      2.000000   74649.250000      3.000000      2.000000   \n",
      "50%     2012.000000      3.000000  149587.000000      3.000000      3.000000   \n",
      "75%     2017.000000      4.000000  223577.500000      4.000000      4.000000   \n",
      "max     2023.000000      5.000000  299947.000000      5.000000      5.000000   \n",
      "\n",
      "             Price  \n",
      "count  10000.00000  \n",
      "mean    8852.96440  \n",
      "std     3112.59681  \n",
      "min     2000.00000  \n",
      "25%     6646.00000  \n",
      "50%     8858.50000  \n",
      "75%    11086.50000  \n",
      "max    18301.00000  \n"
     ]
    }
   ],
   "source": [
    "# 6. Display shape and statistical summary\n",
    "print(\"\\nShape of the dataset:\", df.shape)\n",
    "print(\"\\nStatistical Summary:\",df.describe())"
   ]
  },
  {
   "cell_type": "code",
   "execution_count": 11,
   "id": "265b451f-004f-4f5a-8f41-ff46ebbc63cd",
   "metadata": {},
   "outputs": [
    {
     "data": {
      "image/png": "[encoded data removed]",
      "text/plain": [
       "<Figure size 600x400 with 1 Axes>"
      ]
     },
     "metadata": {},
     "output_type": "display_data"
    }
   ],
   "source": [
    "# 7. Visualize the distribution of 'Doors' column using histogram\n",
    "plt.figure(figsize=(6, 4))\n",
    "df['Doors'].value_counts().sort_index().plot(kind='bar', color='skyblue', edgecolor='black')\n",
    "plt.title(\"Distribution of 'Doors'\")\n",
    "plt.xlabel(\"Number of Doors\")\n",
    "plt.ylabel(\"Frequency\")\n",
    "plt.grid(True, axis='y')\n",
    "plt.show()"
   ]
  },
  {
   "cell_type": "markdown",
   "id": "7b611747-a6a8-477c-b5bb-685295c14c22",
   "metadata": {},
   "source": [
    "**Write a program to demonstrate the use of various methods for data analysis and manipulation\n",
    "on a given dataset**"
   ]
  },
  {
   "cell_type": "code",
   "execution_count": 22,
   "id": "23f6c782-6d22-429a-b368-35ce6b52aba7",
   "metadata": {},
   "outputs": [
    {
     "name": "stdout",
     "output_type": "stream",
     "text": [
      "First 5 rows:\n",
      "         Brand   Model  Year  Engine_Size Fuel_Type    Transmission  Mileage  \\\n",
      "0         Kia     Rio  2020          4.2    Diesel          Manual   289944   \n",
      "1   Chevrolet  Malibu  2012          2.0    Hybrid       Automatic     5356   \n",
      "2    Mercedes     GLA  2020          4.2    Diesel       Automatic   231440   \n",
      "3        Audi      Q5  2023          2.0  Electric          Manual   160971   \n",
      "4  Volkswagen    Golf  2003          2.6    Hybrid  Semi-Automatic   286618   \n",
      "\n",
      "   Doors  Owner_Count  Price  \n",
      "0      3            5   8501  \n",
      "1      2            3  12092  \n",
      "2      4            2  11171  \n",
      "3      2            1  11780  \n",
      "4      3            3   2867  \n",
      "\n",
      "Data Types:\n",
      " Brand            object\n",
      "Model            object\n",
      "Year              int64\n",
      "Engine_Size     float64\n",
      "Fuel_Type        object\n",
      "Transmission     object\n",
      "Mileage           int64\n",
      "Doors             int64\n",
      "Owner_Count       int64\n",
      "Price             int64\n",
      "dtype: object\n",
      "\n",
      "Shape of dataset: (10000, 10)\n",
      "\n",
      "Statistical Summary:\n",
      "                Year   Engine_Size        Mileage         Doors   Owner_Count  \\\n",
      "count  10000.000000  10000.000000   10000.000000  10000.000000  10000.000000   \n",
      "mean    2011.543700      3.000560  149239.111800      3.497100      2.991100   \n",
      "std        6.897699      1.149324   86322.348957      1.110097      1.422682   \n",
      "min     2000.000000      1.000000      25.000000      2.000000      1.000000   \n",
      "25%     2006.000000      2.000000   74649.250000      3.000000      2.000000   \n",
      "50%     2012.000000      3.000000  149587.000000      3.000000      3.000000   \n",
      "75%     2017.000000      4.000000  223577.500000      4.000000      4.000000   \n",
      "max     2023.000000      5.000000  299947.000000      5.000000      5.000000   \n",
      "\n",
      "             Price  \n",
      "count  10000.00000  \n",
      "mean    8852.96440  \n",
      "std     3112.59681  \n",
      "min     2000.00000  \n",
      "25%     6646.00000  \n",
      "50%     8858.50000  \n",
      "75%    11086.50000  \n",
      "max    18301.00000  \n",
      "\n",
      "Column Names: ['Brand', 'Model', 'Year', 'Engine_Size', 'Fuel_Type', 'Transmission', 'Mileage', 'Doors', 'Owner_Count', 'Price']\n",
      "\n",
      "Missing Values:\n",
      " Brand           0\n",
      "Model           0\n",
      "Year            0\n",
      "Engine_Size     0\n",
      "Fuel_Type       0\n",
      "Transmission    0\n",
      "Mileage         0\n",
      "Doors           0\n",
      "Owner_Count     0\n",
      "Price           0\n",
      "dtype: int64\n",
      "\n",
      "Sorted by Price:\n",
      "           Brand     Model  Year  Engine_Size Fuel_Type    Transmission  \\\n",
      "4199       Ford  Explorer  2004          1.7    Diesel          Manual   \n",
      "6470   Mercedes       GLA  2000          2.5    Diesel  Semi-Automatic   \n",
      "6973      Honda     Civic  2004          1.0    Petrol  Semi-Automatic   \n",
      "4030      Honda      CR-V  2001          2.4    Petrol          Manual   \n",
      "2542  Chevrolet    Malibu  2000          2.8    Petrol          Manual   \n",
      "\n",
      "      Mileage  Doors  Owner_Count  Price  \n",
      "4199   290006      2            5   2000  \n",
      "6470   258029      4            3   2000  \n",
      "6973   229776      4            3   2000  \n",
      "4030   257319      3            1   2000  \n",
      "2542   261003      4            1   2000  \n",
      "\n",
      "Cars with more than 4 doors:\n",
      "            Brand     Model  Year  Engine_Size Fuel_Type    Transmission  \\\n",
      "14    Volkswagen      Golf  2003          2.4    Petrol       Automatic   \n",
      "16       Hyundai   Elantra  2017          2.9  Electric       Automatic   \n",
      "22        Toyota      RAV4  2003          2.0  Electric          Manual   \n",
      "26          Audi        A3  2022          3.3  Electric          Manual   \n",
      "27           BMW  3 Series  2017          2.3  Electric  Semi-Automatic   \n",
      "...          ...       ...   ...          ...       ...             ...   \n",
      "9978    Mercedes   E-Class  2002          4.5    Diesel  Semi-Automatic   \n",
      "9979    Mercedes   C-Class  2012          4.3    Diesel       Automatic   \n",
      "9983    Mercedes   E-Class  2022          3.2    Petrol       Automatic   \n",
      "9991    Mercedes   E-Class  2017          1.1    Diesel       Automatic   \n",
      "9997         BMW  3 Series  2010          3.0    Petrol       Automatic   \n",
      "\n",
      "      Mileage  Doors  Owner_Count  Price  \n",
      "14     145921      5            2   5981  \n",
      "16      38133      5            2  14837  \n",
      "22     136662      5            4   6266  \n",
      "26      79350      5            3  14413  \n",
      "27     142701      5            3  10645  \n",
      "...       ...    ...          ...    ...  \n",
      "9978   145363      5            2   6292  \n",
      "9979    51674      5            2  12466  \n",
      "9983    92823      5            4  13543  \n",
      "9991   179286      5            1   8214  \n",
      "9997    86664      5            1   9866  \n",
      "\n",
      "[2456 rows x 10 columns]\n",
      "\n",
      "Final Preview:\n",
      "         Brand   Model  Year  Engine_Size Fuel_Type    Transmission  Mileage  \\\n",
      "0         Kia     Rio  2020          4.2    Diesel          Manual   289944   \n",
      "1   Chevrolet  Malibu  2012          2.0    Hybrid       Automatic     5356   \n",
      "2    Mercedes     GLA  2020          4.2    Diesel       Automatic   231440   \n",
      "3        Audi      Q5  2023          2.0  Electric          Manual   160971   \n",
      "4  Volkswagen    Golf  2003          2.6    Hybrid  Semi-Automatic   286618   \n",
      "\n",
      "   Doors  Owner_Count  Price  \n",
      "0      3            5   8501  \n",
      "1      2            3  12092  \n",
      "2      4            2  11171  \n",
      "3      2            1  11780  \n",
      "4      3            3   2867  \n"
     ]
    }
   ],
   "source": [
    "import pandas as pd\n",
    "\n",
    "# Load dataset\n",
    "df = pd.read_csv('car_price_dataset.csv')\n",
    "\n",
    "# Display basic info\n",
    "print(\"First 5 rows:\\n\", df.head())\n",
    "print(\"\\nData Types:\\n\", df.dtypes)\n",
    "\n",
    "# Shape and summary\n",
    "print(\"\\nShape of dataset:\", df.shape)\n",
    "print(\"\\nStatistical Summary:\\n\", df.describe())\n",
    "\n",
    "# Column names\n",
    "print(\"\\nColumn Names:\", df.columns.tolist())\n",
    "\n",
    "# Check for missing values\n",
    "print(\"\\nMissing Values:\\n\", df.isnull().sum())\n",
    "\n",
    "# Fill missing values with mode or mean (as appropriate)\n",
    "df.fillna(df.mode().iloc[0], inplace=True)\n",
    "\n",
    "# Sort by a column (e.g., 'Price' if exists)\n",
    "if 'Price' in df.columns:\n",
    "    print(\"\\nSorted by Price:\\n\", df.sort_values(by='Price', ascending=True).head())\n",
    "\n",
    "# Filtering: Cars with more than 4 doors\n",
    "if 'Doors' in df.columns:\n",
    "    print(\"\\nCars with more than 4 doors:\\n\", df[df['Doors'] > 4])\n",
    "\n",
    "# Grouping: Mean price by fuel type (if exists)\n",
    "if 'FuelType' in df.columns and 'Price' in df.columns:\n",
    "    print(\"\\nAverage Price by Fuel Type:\\n\", df.groupby('FuelType')['Price'].mean())\n",
    "\n",
    "# Create a new column\n",
    "df['Price_in_Lakhs'] = df['Price'] / 100000 if 'Price' in df.columns else None\n",
    "\n",
    "# Drop a column (example)\n",
    "if 'Price_in_Lakhs' in df.columns:\n",
    "    df.drop(columns='Price_in_Lakhs', inplace=True)\n",
    "\n",
    "# Rename columns\n",
    "df.rename(columns=lambda x: x.strip().replace(\" \", \"_\"), inplace=True)\n",
    "\n",
    "# Final dataset preview\n",
    "print(\"\\nFinal Preview:\\n\", df.head())\n"
   ]
  }
 ],
 "metadata": {
  "kernelspec": {
   "display_name": "Python 3 (ipykernel)",
   "language": "python",
   "name": "python3"
  },
  "language_info": {
   "codemirror_mode": {
    "name": "ipython",
    "version": 3
   },
   "file_extension": ".py",
   "mimetype": "text/x-python",
   "name": "python",
   "nbconvert_exporter": "python",
   "pygments_lexer": "ipython3",
   "version": "3.11.7"
  }
 },
 "nbformat": 4,
 "nbformat_minor": 5
}
